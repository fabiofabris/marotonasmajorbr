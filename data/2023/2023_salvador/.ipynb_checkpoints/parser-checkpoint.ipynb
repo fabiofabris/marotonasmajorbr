{
 "cells": [
  {
   "cell_type": "code",
   "execution_count": 13,
   "id": "c30a3deb-62b9-462a-9382-b717d15f1639",
   "metadata": {},
   "outputs": [],
   "source": [
    "import json\n",
    "import pandas as pd"
   ]
  },
  {
   "cell_type": "code",
   "execution_count": 4,
   "id": "df8e8dc8-23ef-47a2-91eb-47c0e664ca1d",
   "metadata": {},
   "outputs": [],
   "source": [
    "files_to_read = !ls *.json"
   ]
  },
  {
   "cell_type": "code",
   "execution_count": 10,
   "id": "a3bdf9dc-8684-4df4-a48d-954dba884327",
   "metadata": {},
   "outputs": [],
   "source": [
    "all_data = []\n",
    "\n",
    "for file_to_read in files_to_read:\n",
    "    with open(file_to_read) as f:\n",
    "        d = json.load(f)\n",
    "        all_data.extend(d)"
   ]
  },
  {
   "cell_type": "code",
   "execution_count": 17,
   "id": "2ed5b324-333a-4f48-bab8-0af67425623c",
   "metadata": {},
   "outputs": [],
   "source": [
    "pd.DataFrame(all_data).to_csv(\"out.csv\")"
   ]
  },
  {
   "cell_type": "code",
   "execution_count": null,
   "id": "3e6784b5-5920-4a1a-a913-52a64b3d1a49",
   "metadata": {},
   "outputs": [],
   "source": []
  }
 ],
 "metadata": {
  "kernelspec": {
   "display_name": "Python 3 (ipykernel)",
   "language": "python",
   "name": "python3"
  },
  "language_info": {
   "codemirror_mode": {
    "name": "ipython",
    "version": 3
   },
   "file_extension": ".py",
   "mimetype": "text/x-python",
   "name": "python",
   "nbconvert_exporter": "python",
   "pygments_lexer": "ipython3",
   "version": "3.9.18"
  }
 },
 "nbformat": 4,
 "nbformat_minor": 5
}
