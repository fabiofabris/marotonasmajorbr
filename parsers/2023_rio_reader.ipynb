{
 "cells": [
  {
   "cell_type": "code",
   "execution_count": 22,
   "id": "ff53d00b-5091-4228-9781-cca999c57b45",
   "metadata": {},
   "outputs": [],
   "source": [
    "from bs4 import BeautifulSoup\n",
    "import pandas as pd"
   ]
  },
  {
   "cell_type": "code",
   "execution_count": 23,
   "id": "8beae63f-8741-4eff-8de8-bd645a9508f3",
   "metadata": {},
   "outputs": [],
   "source": [
    "files_to_parse = !ls ../data/2023_rio/*.html"
   ]
  },
  {
   "cell_type": "code",
   "execution_count": 24,
   "id": "f66b0ddf-5bd8-406b-8979-5f61b53d0aaf",
   "metadata": {},
   "outputs": [],
   "source": [
    "def read_results(results, is_cha):\n",
    "    all_data = []\n",
    "    for result in results.findAll(\"tr\", recursive=False)[1:]:\n",
    "        try:\n",
    "            name = result.findAll(\"td\", recursive=False)[2].text\n",
    "            gender = result.findAll(\"td\", recursive=False)[3].text\n",
    "            age = result.findAll(\"td\", recursive=False)[4].text\n",
    "            if(is_cha):\n",
    "                time = result.findAll(\"td\", recursive=False)[8].text\n",
    "            else:\n",
    "                time = result.findAll(\"td\", recursive=False)[9].text\n",
    "            data = dict(name=name, gender=gender, age=age, time=time)\n",
    "            all_data.append(data)\n",
    "        except:\n",
    "            pass\n",
    "    return all_data"
   ]
  },
  {
   "cell_type": "code",
   "execution_count": 25,
   "id": "b5840d2d-9a74-4371-ad9d-64833c1a6570",
   "metadata": {
    "tags": []
   },
   "outputs": [],
   "source": [
    "all_results = []\n",
    "\n",
    "for file_to_parse in files_to_parse:\n",
    "    f = open(file_to_parse)\n",
    "    \n",
    "    soup = BeautifulSoup(f, 'html.parser')\n",
    "    results = soup.find(\"table\", id=\"ctl00_content_resultListCtrl_resultGridCtrl_gridResults\")\n",
    "    parsed_results = read_results(results, file_to_parse.find(\"_D_\") != -1)\n",
    "    all_results.extend(parsed_results)\n",
    "    f.close()"
   ]
  },
  {
   "cell_type": "code",
   "execution_count": 26,
   "id": "23e872db-efe2-420f-8ad4-e20bf56afd32",
   "metadata": {},
   "outputs": [],
   "source": [
    "df = pd.DataFrame(all_results).sort_values(\"time\")"
   ]
  },
  {
   "cell_type": "code",
   "execution_count": 27,
   "id": "5ca69d93-b3b6-45b2-90c5-025294068c5a",
   "metadata": {},
   "outputs": [],
   "source": [
    "df.to_csv(\"data/2023_rio/2023_rio_tmp.csv\")"
   ]
  },
  {
   "cell_type": "code",
   "execution_count": null,
   "id": "ea70f41a-9a68-48f7-a0f3-15025ab3f21c",
   "metadata": {},
   "outputs": [],
   "source": []
  }
 ],
 "metadata": {
  "kernelspec": {
   "display_name": "Python 3 (ipykernel)",
   "language": "python",
   "name": "python3"
  },
  "language_info": {
   "codemirror_mode": {
    "name": "ipython",
    "version": 3
   },
   "file_extension": ".py",
   "mimetype": "text/x-python",
   "name": "python",
   "nbconvert_exporter": "python",
   "pygments_lexer": "ipython3",
   "version": "3.9.18"
  }
 },
 "nbformat": 4,
 "nbformat_minor": 5
}
