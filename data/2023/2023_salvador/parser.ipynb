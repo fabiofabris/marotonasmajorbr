{
 "cells": [
  {
   "cell_type": "code",
   "execution_count": 4,
   "id": "c30a3deb-62b9-462a-9382-b717d15f1639",
   "metadata": {},
   "outputs": [],
   "source": [
    "import json\n",
    "import pandas as pd"
   ]
  },
  {
   "cell_type": "code",
   "execution_count": 5,
   "id": "df8e8dc8-23ef-47a2-91eb-47c0e664ca1d",
   "metadata": {},
   "outputs": [],
   "source": [
    "files_to_read = !ls *.json"
   ]
  },
  {
   "cell_type": "code",
   "execution_count": 8,
   "id": "a3bdf9dc-8684-4df4-a48d-954dba884327",
   "metadata": {},
   "outputs": [],
   "source": [
    "all_data = []\n",
    "\n",
    "for file_to_read in files_to_read:\n",
    "    with open(file_to_read) as f:\n",
    "        d = json.load(f)\n",
    "        all_data.extend(d[\"data\"])"
   ]
  },
  {
   "cell_type": "code",
   "execution_count": 47,
   "id": "2ed5b324-333a-4f48-bab8-0af67425623c",
   "metadata": {},
   "outputs": [],
   "source": [
    "df = pd.DataFrame(all_data)\n",
    "df = df[((df.distancia_percorrida == \"139.689\") & (~ df.ds_categoria.str.contains(\"PCD\")))]\n",
    "df = df.assign(age=10)\n",
    "df[\"data_nascimento\"] = df[['data_nascimento']].apply(pd.to_datetime)\n",
    "df[\"age\"] = (pd.to_datetime(\"2023-09-24\")-df[\"data_nascimento\"]).dt.days/365"
   ]
  },
  {
   "cell_type": "code",
   "execution_count": 51,
   "id": "56135a0c-f6dc-4a5d-a523-3563475ddd3f",
   "metadata": {},
   "outputs": [
    {
     "data": {
      "text/plain": [
       "Index(['nr_numero', 'ds_nome', 'ds_categoria', 'nr_ultima_volta', 'ds_genero',\n",
       "       'data_nascimento', 'tempo_total', 'tempo_liquido', 'tempo_oficial',\n",
       "       'penalidades', 'diff_liquido', 'liquido', 'oficial', 'volta',\n",
       "       'distancia_percorrida', 'tipo_tempo', 'colocacao', 'diff', 'cert',\n",
       "       'age'],\n",
       "      dtype='object')"
      ]
     },
     "execution_count": 51,
     "metadata": {},
     "output_type": "execute_result"
    }
   ],
   "source": [
    "df.columns"
   ]
  },
  {
   "cell_type": "code",
   "execution_count": 62,
   "id": "da493bda-69b7-40fc-8327-ec6aaf0596fd",
   "metadata": {},
   "outputs": [],
   "source": [
    "df[[\"ds_nome\", \"age\", \"liquido\", \"ds_genero\"]] \\\n",
    "    .rename({\"ds_nome\":\"name\", \"liquido\":\"time\", \"ds_genero\":\"gender\"}, axis=1) \\\n",
    "    .to_csv(\"out.csv\")"
   ]
  },
  {
   "cell_type": "code",
   "execution_count": null,
   "id": "1f37fe59-258b-49ce-8d9d-0f87ce1d283f",
   "metadata": {},
   "outputs": [],
   "source": []
  }
 ],
 "metadata": {
  "kernelspec": {
   "display_name": "Python 3 (ipykernel)",
   "language": "python",
   "name": "python3"
  },
  "language_info": {
   "codemirror_mode": {
    "name": "ipython",
    "version": 3
   },
   "file_extension": ".py",
   "mimetype": "text/x-python",
   "name": "python",
   "nbconvert_exporter": "python",
   "pygments_lexer": "ipython3",
   "version": "3.9.18"
  }
 },
 "nbformat": 4,
 "nbformat_minor": 5
}
