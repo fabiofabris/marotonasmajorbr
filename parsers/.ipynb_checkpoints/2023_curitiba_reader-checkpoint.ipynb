{
 "cells": [
  {
   "cell_type": "code",
   "execution_count": 62,
   "id": "ff53d00b-5091-4228-9781-cca999c57b45",
   "metadata": {},
   "outputs": [],
   "source": [
    "from bs4 import BeautifulSoup\n",
    "import pandas as pd"
   ]
  },
  {
   "cell_type": "code",
   "execution_count": null,
   "id": "8beae63f-8741-4eff-8de8-bd645a9508f3",
   "metadata": {},
   "outputs": [],
   "source": [
    "files_to_parse = !ls data/2023_curitiba/*.html"
   ]
  },
  {
   "cell_type": "code",
   "execution_count": 65,
   "id": "f66b0ddf-5bd8-406b-8979-5f61b53d0aaf",
   "metadata": {},
   "outputs": [
    {
     "name": "stdout",
     "output_type": "stream",
     "text": [
      "read 30 entries\n"
     ]
    }
   ],
   "source": [
    "def read_results(results):\n",
    "    all_data = []\n",
    "    for result in results.findAll(\"tr\", recursive=False)[1:]:\n",
    "        try:\n",
    "            name = result.findAll(\"td\", recursive=False)[2].text\n",
    "            gender = result.findAll(\"td\", recursive=False)[3].text\n",
    "            age = result.findAll(\"td\", recursive=False)[4].text\n",
    "            time = result.findAll(\"td\", recursive=False)[10].text\n",
    "            data = dict(name=name, gender=gender, age=age, time=time)\n",
    "            all_data.append(data)\n",
    "        except:\n",
    "            pass\n",
    "    return all_data"
   ]
  },
  {
   "cell_type": "code",
   "execution_count": 79,
   "id": "b5840d2d-9a74-4371-ad9d-64833c1a6570",
   "metadata": {
    "tags": []
   },
   "outputs": [],
   "source": [
    "all_results = []\n",
    "\n",
    "for file_to_parse in files_to_parse:\n",
    "    f = open(file_to_parse)\n",
    "    \n",
    "    soup = BeautifulSoup(f, 'html.parser')\n",
    "    results = soup.find(\"table\", id=\"ctl00_content_resultListCtrl_resultGridCtrl_gridResults\")\n",
    "    parsed_results = read_results(results)\n",
    "    all_results.extend(parsed_results)\n",
    "    f.close()"
   ]
  },
  {
   "cell_type": "code",
   "execution_count": 84,
   "id": "23e872db-efe2-420f-8ad4-e20bf56afd32",
   "metadata": {},
   "outputs": [],
   "source": [
    "df = pd.DataFrame(all_results).sort_values(\"time\")"
   ]
  },
  {
   "cell_type": "code",
   "execution_count": 87,
   "id": "5ca69d93-b3b6-45b2-90c5-025294068c5a",
   "metadata": {},
   "outputs": [],
   "source": [
    "df.to_csv(\"data/2023_curitiba/2023_curitiba.csv\")"
   ]
  }
 ],
 "metadata": {
  "kernelspec": {
   "display_name": "Python 3 (ipykernel)",
   "language": "python",
   "name": "python3"
  },
  "language_info": {
   "codemirror_mode": {
    "name": "ipython",
    "version": 3
   },
   "file_extension": ".py",
   "mimetype": "text/x-python",
   "name": "python",
   "nbconvert_exporter": "python",
   "pygments_lexer": "ipython3",
   "version": "3.9.18"
  }
 },
 "nbformat": 4,
 "nbformat_minor": 5
}
