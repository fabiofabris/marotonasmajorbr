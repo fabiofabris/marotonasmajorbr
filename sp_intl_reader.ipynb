{
 "cells": [
  {
   "cell_type": "code",
   "execution_count": 144,
   "id": "ff53d00b-5091-4228-9781-cca999c57b45",
   "metadata": {},
   "outputs": [],
   "source": [
    "from bs4 import BeautifulSoup\n",
    "import pandas as pd"
   ]
  },
  {
   "cell_type": "code",
   "execution_count": 145,
   "id": "f66b0ddf-5bd8-406b-8979-5f61b53d0aaf",
   "metadata": {},
   "outputs": [],
   "source": [
    "def read_results(results):\n",
    "    all_data = []\n",
    "    for result in results:\n",
    "        name = result.find_all(\"td\")[2].text\n",
    "        age = result.find_all(\"td\")[3].text\n",
    "        time = result.find_all(\"td\")[7].text\n",
    "        data = dict(name=name, age=age, time=time)\n",
    "        all_data.append(data)\n",
    "    return all_data"
   ]
  },
  {
   "cell_type": "code",
   "execution_count": 172,
   "id": "d2ab11e8-2482-474c-8b75-4261f2565ab1",
   "metadata": {},
   "outputs": [],
   "source": [
    "def parse_results(files):\n",
    "    all_results = []\n",
    "    for file_to_parse in files:\n",
    "        f = open(file_to_parse, encoding='unicode_escape')\n",
    "        soup = BeautifulSoup(f, 'html.parser')\n",
    "        results = soup.body.form.table.findAll(\"table\")[8].find_all(\"tr\")[1:]\n",
    "\n",
    "        parsed_results = read_results(results)\n",
    "        all_results.extend(parsed_results)\n",
    "        f.close()\n",
    "        \n",
    "    return all_results"
   ]
  },
  {
   "cell_type": "code",
   "execution_count": 173,
   "id": "b5840d2d-9a74-4371-ad9d-64833c1a6570",
   "metadata": {
    "tags": []
   },
   "outputs": [],
   "source": [
    "files_to_parse = !ls data/2023_int_sp/F*.html\n",
    "f_results = parse_results(files_to_parse)\n",
    "\n",
    "files_to_parse = !ls data/2023_int_sp/M*.html\n",
    "m_results = parse_results(files_to_parse)"
   ]
  },
  {
   "cell_type": "code",
   "execution_count": 174,
   "id": "23e872db-efe2-420f-8ad4-e20bf56afd32",
   "metadata": {},
   "outputs": [],
   "source": [
    "df_f = pd.DataFrame(f_results)\n",
    "df_f[\"gender\"] = \"F\"\n",
    "\n",
    "df_m = pd.DataFrame(m_results)\n",
    "df_m[\"gender\"] = \"M\"\n",
    "\n",
    "df = pd.concat([df_m, df_f])"
   ]
  },
  {
   "cell_type": "code",
   "execution_count": 175,
   "id": "1bf09f36-3ea1-4292-b9cb-539aa6bf5708",
   "metadata": {},
   "outputs": [
    {
     "data": {
      "text/html": [
       "<div>\n",
       "<style scoped>\n",
       "    .dataframe tbody tr th:only-of-type {\n",
       "        vertical-align: middle;\n",
       "    }\n",
       "\n",
       "    .dataframe tbody tr th {\n",
       "        vertical-align: top;\n",
       "    }\n",
       "\n",
       "    .dataframe thead th {\n",
       "        text-align: right;\n",
       "    }\n",
       "</style>\n",
       "<table border=\"1\" class=\"dataframe\">\n",
       "  <thead>\n",
       "    <tr style=\"text-align: right;\">\n",
       "      <th></th>\n",
       "      <th>name</th>\n",
       "      <th>age</th>\n",
       "      <th>time</th>\n",
       "      <th>gender</th>\n",
       "    </tr>\n",
       "  </thead>\n",
       "  <tbody>\n",
       "    <tr>\n",
       "      <th>0</th>\n",
       "      <td>JOSE LUIZ DA SILVA</td>\n",
       "      <td>46</td>\n",
       "      <td>02:38:40</td>\n",
       "      <td>M</td>\n",
       "    </tr>\n",
       "    <tr>\n",
       "      <th>1</th>\n",
       "      <td>RODOLFO SCALO</td>\n",
       "      <td>47</td>\n",
       "      <td>02:39:21</td>\n",
       "      <td>M</td>\n",
       "    </tr>\n",
       "    <tr>\n",
       "      <th>2</th>\n",
       "      <td>RICARDO RICCI GIGIOLI</td>\n",
       "      <td>33</td>\n",
       "      <td>02:39:35</td>\n",
       "      <td>M</td>\n",
       "    </tr>\n",
       "    <tr>\n",
       "      <th>3</th>\n",
       "      <td>WILSON PEREIRA SENA</td>\n",
       "      <td>50</td>\n",
       "      <td>02:39:45</td>\n",
       "      <td>M</td>\n",
       "    </tr>\n",
       "    <tr>\n",
       "      <th>4</th>\n",
       "      <td>PAULO PENINHA</td>\n",
       "      <td>35</td>\n",
       "      <td>02:40:06</td>\n",
       "      <td>M</td>\n",
       "    </tr>\n",
       "    <tr>\n",
       "      <th>...</th>\n",
       "      <td>...</td>\n",
       "      <td>...</td>\n",
       "      <td>...</td>\n",
       "      <td>...</td>\n",
       "    </tr>\n",
       "    <tr>\n",
       "      <th>438</th>\n",
       "      <td>JULIA INES DIAZ</td>\n",
       "      <td>64</td>\n",
       "      <td>04:01:15</td>\n",
       "      <td>F</td>\n",
       "    </tr>\n",
       "    <tr>\n",
       "      <th>439</th>\n",
       "      <td>FERNANDA SILVA</td>\n",
       "      <td>32</td>\n",
       "      <td>04:01:26</td>\n",
       "      <td>F</td>\n",
       "    </tr>\n",
       "    <tr>\n",
       "      <th>440</th>\n",
       "      <td>CHRISTIANE NOVAES DE SOUZA</td>\n",
       "      <td>46</td>\n",
       "      <td>04:01:28</td>\n",
       "      <td>F</td>\n",
       "    </tr>\n",
       "    <tr>\n",
       "      <th>441</th>\n",
       "      <td>MARIANA MATSUI SHINZATO</td>\n",
       "      <td>50</td>\n",
       "      <td>04:01:30</td>\n",
       "      <td>F</td>\n",
       "    </tr>\n",
       "    <tr>\n",
       "      <th>442</th>\n",
       "      <td>GABRIELA GATTA B AZENHA</td>\n",
       "      <td>38</td>\n",
       "      <td>04:01:37</td>\n",
       "      <td>F</td>\n",
       "    </tr>\n",
       "  </tbody>\n",
       "</table>\n",
       "<p>3155 rows × 4 columns</p>\n",
       "</div>"
      ],
      "text/plain": [
       "                           name age      time gender\n",
       "0            JOSE LUIZ DA SILVA  46  02:38:40      M\n",
       "1                 RODOLFO SCALO  47  02:39:21      M\n",
       "2         RICARDO RICCI GIGIOLI  33  02:39:35      M\n",
       "3           WILSON PEREIRA SENA  50  02:39:45      M\n",
       "4                 PAULO PENINHA  35  02:40:06      M\n",
       "..                          ...  ..       ...    ...\n",
       "438             JULIA INES DIAZ  64  04:01:15      F\n",
       "439              FERNANDA SILVA  32  04:01:26      F\n",
       "440  CHRISTIANE NOVAES DE SOUZA  46  04:01:28      F\n",
       "441     MARIANA MATSUI SHINZATO  50  04:01:30      F\n",
       "442     GABRIELA GATTA B AZENHA  38  04:01:37      F\n",
       "\n",
       "[3155 rows x 4 columns]"
      ]
     },
     "execution_count": 175,
     "metadata": {},
     "output_type": "execute_result"
    }
   ],
   "source": [
    "df"
   ]
  },
  {
   "cell_type": "code",
   "execution_count": 176,
   "id": "5ca69d93-b3b6-45b2-90c5-025294068c5a",
   "metadata": {},
   "outputs": [],
   "source": [
    "df.to_csv(\"data/2023_int_sp/2023_int_sp.csv\")"
   ]
  },
  {
   "cell_type": "code",
   "execution_count": null,
   "id": "2d6e67be-9372-414d-80f1-0055fcc82c9b",
   "metadata": {},
   "outputs": [],
   "source": []
  }
 ],
 "metadata": {
  "kernelspec": {
   "display_name": "Python 3 (ipykernel)",
   "language": "python",
   "name": "python3"
  },
  "language_info": {
   "codemirror_mode": {
    "name": "ipython",
    "version": 3
   },
   "file_extension": ".py",
   "mimetype": "text/x-python",
   "name": "python",
   "nbconvert_exporter": "python",
   "pygments_lexer": "ipython3",
   "version": "3.9.18"
  }
 },
 "nbformat": 4,
 "nbformat_minor": 5
}
