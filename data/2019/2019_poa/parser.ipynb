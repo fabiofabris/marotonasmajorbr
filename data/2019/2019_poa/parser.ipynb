{
 "cells": [
  {
   "cell_type": "code",
   "execution_count": 24,
   "id": "37bf2244-340b-44ba-9425-81916b64295d",
   "metadata": {},
   "outputs": [],
   "source": [
    "import re\n",
    "import pandas as pd"
   ]
  },
  {
   "cell_type": "code",
   "execution_count": 25,
   "id": "59af5659-73f5-4611-9de5-380f0b610b9b",
   "metadata": {},
   "outputs": [],
   "source": [
    "files_to_read = !ls *.txt"
   ]
  },
  {
   "cell_type": "code",
   "execution_count": 26,
   "id": "abe1e637-7d60-4f06-b3dc-36358c35b011",
   "metadata": {},
   "outputs": [],
   "source": [
    "def parse(lines):\n",
    "    data = []\n",
    "    for line in lines:\n",
    "        m = re.search(\"^\\d+ \\d+ (.*) ([M|F]) (\\d+).*(\\d{2}:\\d{2}:\\d{2})\", line)\n",
    "        name = m.group(1)\n",
    "        gender = m.group(2)\n",
    "        age = m.group(3)\n",
    "        time = m.group(4)\n",
    "        data.append([name, gender, age, time])\n",
    "    return data"
   ]
  },
  {
   "cell_type": "code",
   "execution_count": 27,
   "id": "37997ebc-b0d6-467c-bdb4-f77e509c0bd4",
   "metadata": {},
   "outputs": [],
   "source": [
    "all_data = []\n",
    "\n",
    "for file_to_read in files_to_read:\n",
    "    with open(file_to_read) as f:\n",
    "        lines = f.readlines()\n",
    "        data = parse(lines)\n",
    "        all_data.extend(data)"
   ]
  },
  {
   "cell_type": "code",
   "execution_count": 32,
   "id": "276fceab-70b3-4453-bb12-1913e38fe44e",
   "metadata": {},
   "outputs": [],
   "source": [
    "df = pd.DataFrame(all_data, columns = [\"name\", \"gender\", \"age\", \"time\"])"
   ]
  },
  {
   "cell_type": "code",
   "execution_count": 33,
   "id": "6ad1c3e5-85e6-4a10-9380-d77ff0bf98f4",
   "metadata": {},
   "outputs": [],
   "source": [
    "df.to_csv(\"out.csv\")"
   ]
  },
  {
   "cell_type": "code",
   "execution_count": null,
   "id": "1bf1d2de-8dce-4c44-bcb8-5271d0634459",
   "metadata": {},
   "outputs": [],
   "source": []
  }
 ],
 "metadata": {
  "kernelspec": {
   "display_name": "Python 3 (ipykernel)",
   "language": "python",
   "name": "python3"
  },
  "language_info": {
   "codemirror_mode": {
    "name": "ipython",
    "version": 3
   },
   "file_extension": ".py",
   "mimetype": "text/x-python",
   "name": "python",
   "nbconvert_exporter": "python",
   "pygments_lexer": "ipython3",
   "version": "3.9.18"
  }
 },
 "nbformat": 4,
 "nbformat_minor": 5
}
