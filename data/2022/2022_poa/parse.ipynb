{
 "cells": [
  {
   "cell_type": "code",
   "execution_count": 1,
   "id": "2b3a9a55-27a5-4c2c-9c79-4dc153c4cb4c",
   "metadata": {},
   "outputs": [],
   "source": [
    "import json\n",
    "import pandas as pd"
   ]
  },
  {
   "cell_type": "code",
   "execution_count": 2,
   "id": "93cc8f6a-c97e-400d-8a72-632df0d4e8b5",
   "metadata": {},
   "outputs": [],
   "source": [
    "files_to_read = !ls *.json"
   ]
  },
  {
   "cell_type": "code",
   "execution_count": 7,
   "id": "bfa174fe-30bb-4fe0-8630-7a14790abec0",
   "metadata": {},
   "outputs": [],
   "source": [
    "all_data = []\n",
    "\n",
    "for file_to_read in files_to_read:\n",
    "    with open(file_to_read) as f:\n",
    "        d = json.load(f)\n",
    "        all_data.extend(d[\"RES\"])"
   ]
  },
  {
   "cell_type": "code",
   "execution_count": 15,
   "id": "e0ba6baa-604b-46a0-9182-f38d948d057e",
   "metadata": {},
   "outputs": [
    {
     "data": {
      "text/plain": [
       "Index(['res_id', 'res_adm', 'res_eve_id', 'res_evento_nome',\n",
       "       'res_evento_distancia', 'res_faixa_etaria', 'res_categoria',\n",
       "       'res_categoria_flag', 'res_atleta_nome', 'res_atleta_peitonum',\n",
       "       'res_atleta_dtnasc', 'res_atleta_idade', 'res_atleta_sexo',\n",
       "       'res_atleta_equipe', 'res_atleta_cpf', 'res_atleta_cidade',\n",
       "       'res_atleta_fone', 'res_tempo_bruto', 'res_tempo_liquido', 'res_pace',\n",
       "       'res_classif_geral', 'res_classif_categoria', 'res_km_hora',\n",
       "       'res_parcial_1', 'res_parcial_2', 'res_parcial_3', 'res_parcial_4',\n",
       "       'res_parcial_5', 'res_parcial_6', 'res_parcial_7', 'res_parcial_8',\n",
       "       'res_parcial_9', 'res_parcial_10', 'res_certificado', 'res_ranking',\n",
       "       'att_nome', 'att_cpf', 'att_apelido', 'att_email', 'att_celular',\n",
       "       'att_data_nasc', 'att_foto', 'erp_distancia', 'erp_param_excel',\n",
       "       'erp_param_exibe', 'erp_param_tipo', 'erp_qtde_atletas', 'qtdeAtletas',\n",
       "       'eve_id', 'eve_data_evento', 'eve_hora_largada', 'eve_nome',\n",
       "       'eve_status', 'eve_img_destaque', 'eve_img_banner',\n",
       "       'eve_result_oficial', 'eve_certificado', 'eve_img_certificado',\n",
       "       'eve_texto_certificado', 'mod_id', 'mod_descricao', 'mod_tipo_exib',\n",
       "       'mod_imagem', 'cid_id', 'cid_descricao', 'cid_uf', 'cid_ddd'],\n",
       "      dtype='object')"
      ]
     },
     "execution_count": 15,
     "metadata": {},
     "output_type": "execute_result"
    }
   ],
   "source": [
    "df.columns"
   ]
  },
  {
   "cell_type": "code",
   "execution_count": 33,
   "id": "2534c766-511e-4ab1-b8be-13180fbbf0f1",
   "metadata": {},
   "outputs": [],
   "source": [
    "def f(x):\n",
    "    try:\n",
    "        return int(x.split(\" \")[2])\n",
    "    except:\n",
    "        return None\n",
    "\n",
    "df = pd.DataFrame(all_data)[[\"res_atleta_nome\", \"res_tempo_liquido\", \"res_atleta_sexo\", \"res_faixa_etaria\"]]\n",
    "df[\"age\"] = df[\"res_faixa_etaria\"].apply(f)"
   ]
  },
  {
   "cell_type": "code",
   "execution_count": 39,
   "id": "4cf9c4f3-5fe6-4e2b-9ecc-b2bedeaa1ee3",
   "metadata": {},
   "outputs": [],
   "source": [
    "df.rename({\"res_atleta_nome\":\"name\", \"res_atleta_sexo\":\"gender\", \"res_tempo_liquido\":\"time\"}, axis=1).to_csv(\"out.csv\")"
   ]
  },
  {
   "cell_type": "code",
   "execution_count": null,
   "id": "c6378b22-c094-42f6-baf6-c14726795f70",
   "metadata": {},
   "outputs": [],
   "source": []
  }
 ],
 "metadata": {
  "kernelspec": {
   "display_name": "Python 3 (ipykernel)",
   "language": "python",
   "name": "python3"
  },
  "language_info": {
   "codemirror_mode": {
    "name": "ipython",
    "version": 3
   },
   "file_extension": ".py",
   "mimetype": "text/x-python",
   "name": "python",
   "nbconvert_exporter": "python",
   "pygments_lexer": "ipython3",
   "version": "3.9.18"
  }
 },
 "nbformat": 4,
 "nbformat_minor": 5
}
